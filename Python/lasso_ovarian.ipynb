{
 "cells": [
  {
   "cell_type": "code",
   "execution_count": 1,
   "metadata": {},
   "outputs": [],
   "source": [
    "import os\n",
    "import numpy as np\n",
    "import pandas as pd\n",
    "import time\n",
    "import scipy.stats as stats\n",
    "from scipy.special import factorial\n",
    "import csv\n",
    "import matplotlib.pyplot as plt\n",
    "import statsmodels.stats.multitest as sm\n",
    "from sklearn import linear_model\n",
    "from sklearn import metrics\n",
    "from sklearn.model_selection import train_test_split\n",
    "import math"
   ]
  },
  {
   "cell_type": "markdown",
   "metadata": {},
   "source": [
    "# Import data"
   ]
  },
  {
   "cell_type": "code",
   "execution_count": 2,
   "metadata": {},
   "outputs": [
    {
     "name": "stdout",
     "output_type": "stream",
     "text": [
      "(586, 37)\n",
      "(586, 593)\n",
      "(586, 45)\n",
      "(586, 63)\n",
      "(586, 38)\n",
      "(586, 16)\n",
      "(586, 656)\n"
     ]
    }
   ],
   "source": [
    "imulabel = pd.read_csv('../data/immune_related_genes.csv')['Gene Name'].values\n",
    "\n",
    "df1 = pd.read_csv('./ocRMA/exp.mRNA.AgilentG4502A_07_2.txt',sep = \"\\t\", index_col=0,header = 0)\n",
    "df2 = pd.read_csv('./ocRMA/exp.mRNA.HT_HG-U133A.txt',sep = \"\\t\", index_col=0,header = 0)\n",
    "df3 = pd.read_csv('./ocRMA/exp.mRNA.GSE6008.RMA.txt',sep = \"\\t\", index_col=0,header = 0)\n",
    "df4 = pd.read_csv('./ocRMA/exp.mRNA.GSE18520.RMA.txt',sep = \"\\t\", index_col=0,header = 0)\n",
    "df5 = pd.read_csv('./ocRMA/exp.mRNA.GSE40595.RMA.txt',sep = \"\\t\", index_col=0,header = 0)\n",
    "df6 = pd.read_csv('./ocRMA/mRNA.validation.txt',sep = \"\\t\", index_col=0,header = 0)\n",
    "df6 = df6.drop(df6.columns[range(8,16)],axis=1)\n",
    "\n",
    "# GSE18520 + TCGA_U133a\n",
    "df7 = pd.read_csv('./ocRMA/combat.ocdata.txt',sep=\"\\t\",index_col=0,header=0)\n",
    "\n",
    "imuidx = pd.Index(imulabel)\n",
    "comidx = df1.index.join(\n",
    "    df2.index.join(\n",
    "        df3.index.join(\n",
    "            df4.index.join(\n",
    "                df5.index.join(\n",
    "                    df6.index.join(imuidx,how='inner'),how='inner')\n",
    "            ,how='inner')\n",
    "        ,how='inner')\n",
    "    ,how='inner')\n",
    ",how='inner')\n",
    "\n",
    "comidx = df7.index.join(comidx,how='inner')\n",
    "\n",
    "df1 = df1.loc[comidx]\n",
    "df2 = df2.loc[comidx]\n",
    "df3 = df3.loc[comidx]\n",
    "df4 = df4.loc[comidx]\n",
    "df5 = df5.loc[comidx]\n",
    "df6 = df6.loc[comidx]\n",
    "df7 = df7.loc[comidx]\n",
    "\n",
    "print(df1.shape)\n",
    "print(df2.shape)\n",
    "print (df3.shape)\n",
    "print (df4.shape)\n",
    "print (df5.shape)\n",
    "print (df6.shape)\n",
    "print (df7.shape)"
   ]
  },
  {
   "cell_type": "code",
   "execution_count": 3,
   "metadata": {},
   "outputs": [],
   "source": [
    "lab1 = np.genfromtxt('./oclabel/AgilentG4502A_07_2.label.txt',dtype=\"U16,u1\")['f1']\n",
    "lab2 = np.genfromtxt('./oclabel/HT_HG-U133A.label.txt',dtype=\"U16,u1\")['f1']\n",
    "lab3 = np.genfromtxt('./oclabel/GSE6008.label.txt',dtype=\"U16,U16,u1\")['f2']\n",
    "lab4 = np.genfromtxt('./oclabel/GSE18520.label.txt',dtype=\"U16,U16,U16,u1,u1\")['f4']\n",
    "lab5 = np.genfromtxt('./oclabel/GSE40595.label.txt',dtype=\"U16,U16,U16,U16,U16,U16,U16,u1\")['f7']\n",
    "lab6 = np.genfromtxt('./oclabel/mRNA.label.txt',dtype=\"U16,u1\")['f1']\n",
    "lab7 = np.genfromtxt('./oclabel/combat.label.txt',dtype=\"U16,u1\")['f1']\n",
    "lab6 = np.delete(lab6,range(8,16))"
   ]
  },
  {
   "cell_type": "markdown",
   "metadata": {},
   "source": [
    "# Set training and Testing"
   ]
  },
  {
   "cell_type": "code",
   "execution_count": 4,
   "metadata": {},
   "outputs": [
    {
     "name": "stdout",
     "output_type": "stream",
     "text": [
      "Shape of training data:  (656, 586)\n",
      "length of data =  586\n",
      "number of samples =  656\n"
     ]
    }
   ],
   "source": [
    "# trainname = \"RMA_testonMAS\"\n",
    "# x_train = np.concatenate((df4.to_numpy(),df2.to_numpy()),axis=1).T\n",
    "# y_train = np.concatenate((lab4,lab2))\n",
    "x_train = df7.to_numpy().T\n",
    "y_train = lab7\n",
    "\n",
    "x_test1 = df3.to_numpy().T\n",
    "x_test2 = df5.to_numpy().T\n",
    "x_test3 = df1.to_numpy().T\n",
    "x_test4 = df6.to_numpy().T\n",
    "y_test1 = lab3\n",
    "y_test2 = lab5\n",
    "y_test3 = lab1\n",
    "y_test4 = lab6\n",
    "\n",
    "length = len(x_train[0,:])\n",
    "n_sm = len(x_train[:,0])\n",
    "print (\"Shape of training data: \",x_train.shape)\n",
    "print (\"length of data = \", length)\n",
    "print (\"number of samples = \", n_sm)"
   ]
  },
  {
   "cell_type": "markdown",
   "metadata": {},
   "source": [
    "# Ind_T-test"
   ]
  },
  {
   "cell_type": "code",
   "execution_count": 5,
   "metadata": {},
   "outputs": [],
   "source": [
    "def select(data, index):\n",
    "    index_num = len(index)\n",
    "    select = []\n",
    "    for i in range(0,index_num):\n",
    "        select.append(np.array(data[:,index[i]]))\n",
    "    select = np.stack(select)\n",
    "    select = select.T\n",
    "#     print \"shape of select matrix: \", select.shape\n",
    "    return select"
   ]
  },
  {
   "cell_type": "code",
   "execution_count": 6,
   "metadata": {
    "scrolled": true
   },
   "outputs": [
    {
     "name": "stdout",
     "output_type": "stream",
     "text": [
      "shape of control (18, 586)\n",
      "shape of case (638, 586)\n"
     ]
    }
   ],
   "source": [
    "con_index = np.where(y_train==0)\n",
    "con_sample = x_train[con_index]\n",
    "case_index = np.where(y_train==1)\n",
    "case_sample = x_train[case_index]\n",
    "print (\"shape of control\", con_sample.shape)\n",
    "print (\"shape of case\", case_sample.shape)"
   ]
  },
  {
   "cell_type": "code",
   "execution_count": 7,
   "metadata": {},
   "outputs": [
    {
     "name": "stdout",
     "output_type": "stream",
     "text": [
      "2.26438692667406e-69\n",
      "1.3269307390309992e-66\n"
     ]
    }
   ],
   "source": [
    "t_stat,pvalue = stats.ttest_ind(con_sample, case_sample, axis = 0, equal_var=True, nan_policy='raise')\n",
    "print (np.min(pvalue))\n",
    "rejected, result_fdr = sm.fdrcorrection(pvalue, method='indep', is_sorted=False)\n",
    "# result_fdr = pvalue\n",
    "print (np.min(result_fdr))"
   ]
  },
  {
   "cell_type": "code",
   "execution_count": 8,
   "metadata": {
    "scrolled": true
   },
   "outputs": [
    {
     "name": "stdout",
     "output_type": "stream",
     "text": [
      "fdr_threshold =  0.0001\n",
      "109\n",
      "fdr_threshold =  1e-10\n",
      "28\n",
      "fdr_threshold =  1e-12\n",
      "24\n",
      "fdr_threshold =  1e-16\n",
      "13\n",
      "fdr_threshold =  1e-20\n",
      "8\n",
      "fdr_threshold =  1e-28\n",
      "5\n",
      "fdr_threshold =  1e-36\n",
      "2\n"
     ]
    }
   ],
   "source": [
    "# fdr_thresholds = np.arange(0.01,0.06,0.01)\n",
    "fdr_thresholds = [1e-4,1e-10,1e-12,1e-16,1e-20,1e-28,1e-36]\n",
    "for fdr_threshold in fdr_thresholds:\n",
    "    index, = np.where(result_fdr < fdr_threshold)\n",
    "    print (\"fdr_threshold = \", fdr_threshold)\n",
    "    print (len(index))"
   ]
  },
  {
   "cell_type": "markdown",
   "metadata": {},
   "source": [
    "# Lasso"
   ]
  },
  {
   "cell_type": "code",
   "execution_count": 9,
   "metadata": {},
   "outputs": [],
   "source": [
    "def train_Lasso(data,label,plot=False):\n",
    "    # Compute paths\n",
    "    print(\"Computing regularization path using the coordinate descent lasso...\")\n",
    "    model = linear_model.LassoCV(max_iter=1000,cv=10,normalize=True ,random_state=2).fit(data, label)\n",
    "\n",
    "    # This is to avoid division by zero while doing np.log10\n",
    "    EPSILON = 1e-5\n",
    "\n",
    "    # Display results\n",
    "    if plot:\n",
    "        m_log_alphas = -np.log10(model.alphas_ + EPSILON)\n",
    "\n",
    "        plt.figure()\n",
    "        ymin, ymax = 0, 0.6\n",
    "        plt.plot(m_log_alphas, model.mse_path_, ':')\n",
    "        plt.plot(m_log_alphas, model.mse_path_.mean(axis=-1), 'k',\n",
    "                 label='Average across the folds', linewidth=2)\n",
    "        plt.axvline(-np.log10(model.alpha_ + EPSILON), linestyle='--', color='k',\n",
    "                    label='alpha: CV estimate')\n",
    "\n",
    "        plt.legend()\n",
    "\n",
    "        plt.xlabel('-log(alpha)')\n",
    "        plt.ylabel('Mean square error')\n",
    "        plt.title('Mean square error on each fold: coordinate descent '\n",
    "                  '(train time: %.2fs)' % t_lasso_cv)\n",
    "        plt.axis('tight')\n",
    "        plt.ylim(ymin, ymax)\n",
    "\n",
    "    num_coef = len(np.where(model.coef_)[0])\n",
    "    print (\"num_lasso_gene = \", num_coef)\n",
    "    return model, num_coef"
   ]
  },
  {
   "cell_type": "code",
   "execution_count": 10,
   "metadata": {},
   "outputs": [],
   "source": [
    "def test_Lasso(data, label, clf):\n",
    "    predt = clf.predict(data)\n",
    "    auc = metrics.roc_auc_score(label, predt)\n",
    "    print (\"Lasso ROC AUC: \", auc)\n",
    "#     plot_roc(y_true,y_scores)\n",
    "    return auc"
   ]
  },
  {
   "cell_type": "code",
   "execution_count": 11,
   "metadata": {},
   "outputs": [],
   "source": [
    "def plot_roc(labels, predict_prob):\n",
    "    false_positive_rate,true_positive_rate,thresholds=\\\n",
    "    metrics.roc_curve(labels, predict_prob)\n",
    "    roc_auc = metrics.auc(false_positive_rate, true_positive_rate)\n",
    "    plt.title('ROC')\n",
    "    plt.plot(false_positive_rate, true_positive_rate,'b',\\\n",
    "             label = 'AUC = %0.4f'% roc_auc)\n",
    "    plt.legend(loc = 'lower right')\n",
    "    plt.plot([0,1],[0,1],'r--')\n",
    "    plt.ylabel('TPR')\n",
    "    plt.xlabel('FPR')\n",
    "    plt.show()"
   ]
  },
  {
   "cell_type": "markdown",
   "metadata": {},
   "source": [
    "# Set field name of the result"
   ]
  },
  {
   "cell_type": "code",
   "execution_count": 12,
   "metadata": {},
   "outputs": [
    {
     "name": "stdout",
     "output_type": "stream",
     "text": [
      "['threshold', 'num_gene', 'num_lassogene', 'lasso_test', 'Nearest Neighbors', 'Linear SVM', 'RBF SVM', 'Gaussian Process', 'Decision Tree', 'Random Forest', 'Neural Net', 'AdaBoost', 'Naive Bayes', 'QDA']\n"
     ]
    }
   ],
   "source": [
    "fields = ['threshold','num_gene','num_lassogene','lasso_test']\n",
    "names = [\"Nearest Neighbors\", \"Linear SVM\", \"RBF SVM\", \"Gaussian Process\",\n",
    "         \"Decision Tree\", \"Random Forest\", \"Neural Net\", \"AdaBoost\",\n",
    "         \"Naive Bayes\", \"QDA\"]\n",
    "for name in names:\n",
    "    fields.append(name)\n",
    "\n",
    "print (fields)"
   ]
  },
  {
   "cell_type": "markdown",
   "metadata": {},
   "source": [
    "# Other Classifier"
   ]
  },
  {
   "cell_type": "code",
   "execution_count": 13,
   "metadata": {},
   "outputs": [],
   "source": [
    "from sklearn.neural_network import MLPClassifier\n",
    "from sklearn.neighbors import KNeighborsClassifier\n",
    "from sklearn.svm import SVC\n",
    "from sklearn.gaussian_process import GaussianProcessClassifier\n",
    "from sklearn.gaussian_process.kernels import RBF\n",
    "from sklearn.tree import DecisionTreeClassifier\n",
    "from sklearn.ensemble import RandomForestClassifier, AdaBoostClassifier\n",
    "from sklearn.naive_bayes import GaussianNB\n",
    "from sklearn.discriminant_analysis import QuadraticDiscriminantAnalysis"
   ]
  },
  {
   "cell_type": "code",
   "execution_count": 14,
   "metadata": {},
   "outputs": [],
   "source": [
    "names = [\"Nearest Neighbors\", \"Linear SVM\", \"RBF SVM\", \"Gaussian Process\",\n",
    "         \"Decision Tree\", \"Random Forest\", \"Neural Net\", \"AdaBoost\",\n",
    "         \"Naive Bayes\", \"QDA\"]\n",
    "classifiers = [\n",
    "    KNeighborsClassifier(3),\n",
    "    SVC(kernel=\"linear\", C=0.025,random_state=2),\n",
    "    SVC(gamma=2, C=1,random_state=2),\n",
    "    GaussianProcessClassifier(1.0 * RBF(1.0),random_state=2),\n",
    "    DecisionTreeClassifier(random_state=2),\n",
    "    RandomForestClassifier(random_state=2),\n",
    "    MLPClassifier(hidden_layer_sizes=(20,20),alpha=0.5, max_iter=1000,learning_rate='adaptive', random_state=2),\n",
    "    AdaBoostClassifier(random_state=2),\n",
    "    GaussianNB(),\n",
    "    QuadraticDiscriminantAnalysis()]"
   ]
  },
  {
   "cell_type": "markdown",
   "metadata": {},
   "source": [
    "# Fold Change"
   ]
  },
  {
   "cell_type": "code",
   "execution_count": 15,
   "metadata": {},
   "outputs": [],
   "source": [
    "def foldchange(x,y,fc):\n",
    "    case = y\n",
    "    control  = 1-y\n",
    "    casemean = np.sum(x.T * case, axis = 1) / np.sum(case)\n",
    "    controlmean = np.sum(x.T * control, axis = 1) / np.sum(control)\n",
    "    index, = np.where(abs(casemean - controlmean) > math.log(fc,2))\n",
    "#     index, = np.where(abs(casemean - controlmean) > fc)\n",
    "    return index"
   ]
  },
  {
   "cell_type": "code",
   "execution_count": 16,
   "metadata": {},
   "outputs": [
    {
     "data": {
      "text/plain": [
       "(63,)"
      ]
     },
     "execution_count": 16,
     "metadata": {},
     "output_type": "execute_result"
    }
   ],
   "source": [
    "fc_index = foldchange(x_train,y_train,2)\n",
    "fc_index.shape"
   ]
  },
  {
   "cell_type": "code",
   "execution_count": 25,
   "metadata": {},
   "outputs": [
    {
     "name": "stdout",
     "output_type": "stream",
     "text": [
      "fdr_index =  109\n",
      "fc index =  63\n",
      "intersect index =  47\n"
     ]
    }
   ],
   "source": [
    "fdr_index, = np.where(result_fdr < 0.0001)\n",
    "print(\"fdr_index = \", len(fdr_index))\n",
    "fc_index = foldchange(x_train,y_train,2)\n",
    "print(\"fc index = \", len(fc_index))\n",
    "index = np.intersect1d(fdr_index,fc_index)\n",
    "print(\"intersect index = \", len(index))"
   ]
  },
  {
   "cell_type": "markdown",
   "metadata": {},
   "source": [
    "## Training and Testing"
   ]
  },
  {
   "cell_type": "code",
   "execution_count": 17,
   "metadata": {},
   "outputs": [],
   "source": [
    "def testmodel(clf,x_test,y_test,index):\n",
    "    testrsl = []\n",
    "    testrsl.append('fdr<'+'%.0e' % threshold)\n",
    "    testrsl.append(len(index))\n",
    "    \n",
    "    etc_test = x_test[:,index]\n",
    "    lassoauc = test_Lasso(etc_test,y_test,clf)\n",
    "    testrsl.append(num_lasso_gene)\n",
    "    testrsl.append('%.3f' % lassoauc)\n",
    "    \n",
    "    for name, clf_ in zip(names, classifiers):\n",
    "        clf_.fit(etc_train,y_train)\n",
    "        predt = clf_.predict(etc_test)\n",
    "        auc = metrics.roc_auc_score(y_test, predt)\n",
    "        print (name, \"Testing ROC AUC: \", auc)\n",
    "        testrsl.append('%.3f' % auc)\n",
    "        \n",
    "    return testrsl"
   ]
  },
  {
   "cell_type": "code",
   "execution_count": 18,
   "metadata": {},
   "outputs": [],
   "source": [
    "# from imblearn.over_sampling import RandomOverSampler\n",
    "# ros = RandomOverSampler(random_state=0)\n",
    "# x_resampled, y_resampled = ros.fit_resample(x_train, y_train)\n",
    "\n",
    "# fdr_thresholds = [1e-4,1e-10,1e-12,1e-16,1e-20,1e-28,1e-36]\n",
    "# fc = 2\n",
    "\n",
    "# trainrsl =[]\n",
    "# test1rsl = []\n",
    "# test2rsl = []\n",
    "# test3rsl = []\n",
    "# test4rsl = []\n",
    "    \n",
    "# for threshold in fdr_thresholds:\n",
    "    \n",
    "#     fdr_index, = np.where(result_fdr < threshold)\n",
    "#     fc_index = foldchange(x_train,y_train,fc)\n",
    "#     index = np.intersect1d(fdr_index,fc_index)\n",
    "     \n",
    "#     if index.size == 0:\n",
    "#         print(\"for threshold={:.0e}, fc={:.1f} intersection empty\".format(threshold,fc))\n",
    "#         continue\n",
    "    \n",
    "# #     etc_train = x_resampled[:,index]\n",
    "#     etc_train = x_train[:,index]\n",
    "#     clf, num_lasso_gene = train_Lasso(etc_train,y_train,plot=False)\n",
    "    \n",
    "#     trainrsl.append(testmodel(clf,x_train,y_train,index))\n",
    "#     test1rsl.append(testmodel(clf,x_test1,y_test1,index))\n",
    "#     test2rsl.append(testmodel(clf,x_test2,y_test2,index))\n",
    "#     test3rsl.append(testmodel(clf,x_test3,y_test3,index))\n",
    "#     test4rsl.append(testmodel(clf,x_test4,y_test4,index))"
   ]
  },
  {
   "cell_type": "code",
   "execution_count": 20,
   "metadata": {},
   "outputs": [
    {
     "name": "stdout",
     "output_type": "stream",
     "text": [
      "Computing regularization path using the coordinate descent lasso...\n",
      "num_lasso_gene =  7\n",
      "Lasso ROC AUC:  0.9995646116335771\n",
      "Nearest Neighbors Testing ROC AUC:  0.9714385231626611\n",
      "Linear SVM Testing ROC AUC:  0.9714385231626611\n",
      "RBF SVM Testing ROC AUC:  1.0\n",
      "Gaussian Process Testing ROC AUC:  0.9714385231626611\n",
      "Decision Tree Testing ROC AUC:  1.0\n",
      "Random Forest Testing ROC AUC:  1.0\n",
      "Neural Net Testing ROC AUC:  0.9706548241030999\n",
      "AdaBoost Testing ROC AUC:  1.0\n",
      "Naive Bayes Testing ROC AUC:  0.9636015325670497\n",
      "QDA Testing ROC AUC:  0.9675200278648554\n",
      "Lasso ROC AUC:  0.9878048780487805\n",
      "Nearest Neighbors Testing ROC AUC:  0.7896341463414633\n",
      "Linear SVM Testing ROC AUC:  0.9512195121951219\n",
      "RBF SVM Testing ROC AUC:  0.5\n",
      "Gaussian Process Testing ROC AUC:  0.9146341463414633\n",
      "Decision Tree Testing ROC AUC:  0.5609756097560976\n",
      "Random Forest Testing ROC AUC:  0.9878048780487805\n",
      "Neural Net Testing ROC AUC:  0.5\n",
      "AdaBoost Testing ROC AUC:  0.5609756097560976\n",
      "Naive Bayes Testing ROC AUC:  0.5365853658536586\n",
      "QDA Testing ROC AUC:  0.7195121951219512\n",
      "Lasso ROC AUC:  1.0\n",
      "Nearest Neighbors Testing ROC AUC:  1.0\n",
      "Linear SVM Testing ROC AUC:  1.0\n",
      "RBF SVM Testing ROC AUC:  0.5\n",
      "Gaussian Process Testing ROC AUC:  1.0\n",
      "Decision Tree Testing ROC AUC:  0.515625\n",
      "Random Forest Testing ROC AUC:  0.953125\n",
      "Neural Net Testing ROC AUC:  1.0\n",
      "AdaBoost Testing ROC AUC:  0.953125\n",
      "Naive Bayes Testing ROC AUC:  0.921875\n",
      "QDA Testing ROC AUC:  0.9375\n",
      "Lasso ROC AUC:  0.99375\n",
      "Nearest Neighbors Testing ROC AUC:  0.5\n",
      "Linear SVM Testing ROC AUC:  0.5\n",
      "RBF SVM Testing ROC AUC:  0.5\n",
      "Gaussian Process Testing ROC AUC:  0.5\n",
      "Decision Tree Testing ROC AUC:  0.5\n",
      "Random Forest Testing ROC AUC:  0.5\n",
      "Neural Net Testing ROC AUC:  0.90625\n",
      "AdaBoost Testing ROC AUC:  0.5\n",
      "Naive Bayes Testing ROC AUC:  0.5\n",
      "QDA Testing ROC AUC:  0.5\n",
      "Lasso ROC AUC:  0.78125\n",
      "Nearest Neighbors Testing ROC AUC:  0.6875\n",
      "Linear SVM Testing ROC AUC:  1.0\n",
      "RBF SVM Testing ROC AUC:  0.5\n",
      "Gaussian Process Testing ROC AUC:  1.0\n",
      "Decision Tree Testing ROC AUC:  0.9375\n",
      "Random Forest Testing ROC AUC:  0.875\n",
      "Neural Net Testing ROC AUC:  0.5625\n",
      "AdaBoost Testing ROC AUC:  0.5\n",
      "Naive Bayes Testing ROC AUC:  0.875\n",
      "QDA Testing ROC AUC:  0.5\n"
     ]
    }
   ],
   "source": [
    "from imblearn.over_sampling import RandomOverSampler\n",
    "ros = RandomOverSampler(random_state=0)\n",
    "x_resampled, y_resampled = ros.fit_resample(x_train, y_train)\n",
    "\n",
    "genenum = [7]\n",
    "\n",
    "trainrsl = []\n",
    "test2rsl = []\n",
    "test3rsl = []\n",
    "test4rsl = []\n",
    "test5rsl = []\n",
    "test6rsl = []\n",
    "test7rsl = []\n",
    "test8rsl = []\n",
    "test9rsl = []\n",
    "    \n",
    "for n in genenum:\n",
    "    threshold = np.sort(result_fdr)[n]\n",
    "    fdr_index, = np.where(result_fdr < threshold)\n",
    "    index = fdr_index\n",
    "    \n",
    "#     fdr_index, = np.where(result_fdr < threshold)\n",
    "#     fc_index = foldchange(x_train,y_train,fc)\n",
    "#     index = np.intersect1d(fdr_index,fc_index)\n",
    "     \n",
    "    if index.size == 0:\n",
    "        print(\"for threshold={:.0e}, fc={:.1f} intersection empty\".format(threshold,fc))\n",
    "        continue\n",
    "    \n",
    "#     etc_train = x_resampled[:,index]\n",
    "    etc_train = x_train[:,index]\n",
    "    clf, num_lasso_gene = train_Lasso(etc_train,y_train,plot=False)\n",
    "    \n",
    "    trainrsl.append(testmodel(clf,x_train,y_train,index))\n",
    "    test1rsl.append(testmodel(clf,x_test1,y_test1,index))\n",
    "    test2rsl.append(testmodel(clf,x_test2,y_test2,index))\n",
    "    test3rsl.append(testmodel(clf,x_test3,y_test3,index))\n",
    "    test4rsl.append(testmodel(clf,x_test4,y_test4,index))"
   ]
  },
  {
   "cell_type": "markdown",
   "metadata": {},
   "source": [
    "# Write to csv"
   ]
  },
  {
   "cell_type": "code",
   "execution_count": 21,
   "metadata": {},
   "outputs": [],
   "source": [
    "import csv\n",
    "from datetime import datetime\n",
    "\n",
    "dateTimeObj = datetime.now()\n",
    "timestr = dateTimeObj.strftime('%m%dT%H')\n",
    "# # 属性名称\n",
    "# fields = ['Name', 'Goals', 'Assists', 'Shots']\n",
    "\n",
    "# # csv文件中每一行的数据，一行为一个列表\n",
    "# rows = [ ['Emily', '12', '18', '112'],\n",
    "# ['Katie', '8', '24', '96'],\n",
    "# ['John', '16', '9', '101'],\n",
    "# ['Mike', '3', '14', '82']]\n",
    "\n",
    "# filename = \"./Result/Sepsis_Results_value_Adult1+3_\"+timestr+\".csv\"\n",
    "filename = \"./Result/oc_value_n=7_combat.csv\"\n",
    "\n",
    "# 将数据写入到csv文件中\n",
    "with open(filename, 'w+') as csvfile:\n",
    "    # 创建一个csv writer对象\n",
    "    csvwriter = csv.writer(csvfile)\n",
    "    # 写入属性名称\n",
    "    csvwriter.writerow(fields)\n",
    "    # 写入数据\n",
    "    csvwriter.writerows([[\"train\"]])\n",
    "    csvwriter.writerows(trainrsl)\n",
    "    csvwriter.writerows([[\"test1GEO\"]])\n",
    "    csvwriter.writerows(test1rsl)\n",
    "    csvwriter.writerows([[\"test2GEO\"]])\n",
    "    csvwriter.writerows(test2rsl)\n",
    "    csvwriter.writerows([[\"test3TCGA\"]])\n",
    "    csvwriter.writerows(test3rsl)\n",
    "    csvwriter.writerows([[\"Validation\"]])\n",
    "    csvwriter.writerows(test4rsl)\n"
   ]
  },
  {
   "cell_type": "code",
   "execution_count": null,
   "metadata": {},
   "outputs": [],
   "source": []
  }
 ],
 "metadata": {
  "kernelspec": {
   "display_name": "Python [conda env:stat3] *",
   "language": "python",
   "name": "conda-env-stat3-py"
  },
  "language_info": {
   "codemirror_mode": {
    "name": "ipython",
    "version": 3
   },
   "file_extension": ".py",
   "mimetype": "text/x-python",
   "name": "python",
   "nbconvert_exporter": "python",
   "pygments_lexer": "ipython3",
   "version": "3.8.2"
  }
 },
 "nbformat": 4,
 "nbformat_minor": 2
}
