{
 "cells": [
  {
   "cell_type": "code",
   "execution_count": 2,
   "metadata": {},
   "outputs": [],
   "source": [
    "import os\n",
    "import numpy as np\n",
    "import time\n",
    "import scipy.stats as stats\n",
    "from scipy.special import factorial\n",
    "import csv\n",
    "import matplotlib.pyplot as plt\n",
    "import statsmodels.stats.multitest as sm\n",
    "from fisher import pvalue_npy\n",
    "from sklearn import linear_model\n",
    "from sklearn import metrics\n",
    "from sklearn.model_selection import train_test_split\n",
    "import seaborn as sns\n",
    "import pandas as pd\n",
    "from sklearn.metrics import average_precision_score\n",
    "from mlxtend.feature_selection import SequentialFeatureSelector as SFS\n",
    "from sklearn.neighbors import KNeighborsClassifier\n",
    "from mlxtend.data import wine_data\n",
    "from sklearn.model_selection import train_test_split\n",
    "from sklearn.preprocessing import StandardScaler\n",
    "from sklearn.pipeline import make_pipeline\n",
    "from mlxtend.plotting import plot_sequential_feature_selection as plot_sfs\n",
    "from sklearn.linear_model import LogisticRegression\n",
    "from imblearn.over_sampling import RandomOverSampler"
   ]
  },
  {
   "cell_type": "code",
   "execution_count": 3,
   "metadata": {},
   "outputs": [
    {
     "name": "stdout",
     "output_type": "stream",
     "text": [
      "(17814, 37)\n",
      "(12042, 593)\n",
      "(12548, 45)\n",
      "(21655, 63)\n",
      "(21655, 38)\n",
      "(17995, 16)\n",
      "Shape of training data:  (672, 219)\n",
      "length of data =  219\n",
      "number of samples =  672\n"
     ]
    }
   ],
   "source": [
    "imulabel = pd.read_csv('./oclabel/immport.mRNA0728.txt').values\n",
    "imulabel = np.squeeze(imulabel)\n",
    "\n",
    "df1 = pd.read_csv('./ocRMA/exp.mRNA.AgilentG4502A_07_2.txt',sep = \"\\t\", index_col=0,header = 0)\n",
    "df2 = pd.read_csv('./ocRMA/exp.mRNA.HT_HG-U133A.txt',sep = \"\\t\", index_col=0,header = 0)\n",
    "df3 = pd.read_csv('./ocRMA/exp.mRNA.GSE6008.RMA.txt',sep = \"\\t\", index_col=0,header = 0)\n",
    "df4 = pd.read_csv('./ocRMA/exp.mRNA.GSE18520.RMA.txt',sep = \"\\t\", index_col=0,header = 0)\n",
    "df5 = pd.read_csv('./ocRMA/exp.mRNA.GSE40595.RMA.txt',sep = \"\\t\", index_col=0,header = 0)\n",
    "df6 = pd.read_csv('./ocRMA/mRNA.validation.txt',sep = \"\\t\", index_col=0,header = 0)\n",
    "df6 = df6.drop(df6.columns[range(8,16)],axis=1)\n",
    "\n",
    "# df7 = pd.read_csv('./ocRMA/combat.ocdata.txt',sep=\"\\t\",index_col=0,header=0)\n",
    "\n",
    "print(df1.shape)\n",
    "print(df2.shape)\n",
    "print (df3.shape)\n",
    "print (df4.shape)\n",
    "print (df5.shape)\n",
    "print (df6.shape)\n",
    "# print (df7.shape)\n",
    "\n",
    "imuidx = pd.Index(imulabel)\n",
    "comidx = df1.index.join(\n",
    "    df2.index.join(\n",
    "        df3.index.join(\n",
    "            df4.index.join(\n",
    "                df5.index.join(\n",
    "                    df6.index.join(imuidx,how='inner'),how='inner')\n",
    "            ,how='inner')\n",
    "        ,how='inner')\n",
    "    ,how='inner')\n",
    ",how='inner')\n",
    "\n",
    "df1 = df1.loc[comidx]\n",
    "df2 = df2.loc[comidx]\n",
    "df3 = df3.loc[comidx]\n",
    "df4 = df4.loc[comidx]\n",
    "df5 = df5.loc[comidx]\n",
    "df6 = df6.loc[comidx]\n",
    "\n",
    "lab1 = np.genfromtxt('./oclabel/AgilentG4502A_07_2.label.txt',dtype=\"U16,u1\")['f1']\n",
    "lab2 = np.genfromtxt('./oclabel/HT_HG-U133A.label.txt',dtype=\"U16,u1\")['f1']\n",
    "lab3 = np.genfromtxt('./oclabel/GSE6008.label.txt',dtype=\"U16,U16,u1\")['f2']\n",
    "lab4 = np.genfromtxt('./oclabel/GSE18520.label.txt',dtype=\"U16,U16,U16,u1,u1\")['f4']\n",
    "lab5 = np.genfromtxt('./oclabel/GSE40595.label.txt',dtype=\"U16,U16,U16,U16,U16,U16,U16,u1\")['f7']\n",
    "lab6 = np.genfromtxt('./oclabel/mRNA.label.txt',dtype=\"U16,u1\")['f1']\n",
    "# lab7 = np.genfromtxt('./oclabel/combat.label.txt',dtype=\"U16,u1\")['f1']\n",
    "lab6 = np.delete(lab6,range(8,16))\n",
    "\n",
    "x_train = np.concatenate((df2.to_numpy(),df4.to_numpy(),df6.to_numpy()),axis=1).T\n",
    "y_train = np.concatenate((lab2,lab4,lab6))\n",
    "\n",
    "# x_train = df7.to_numpy().T\n",
    "# y_train = lab7\n",
    "\n",
    "x_train1 = df2.to_numpy().T\n",
    "y_train1 = lab2\n",
    "x_train2 = df4.to_numpy().T\n",
    "y_train2 = lab4\n",
    "\n",
    "x_test1 = df3.to_numpy().T\n",
    "x_test2 = df5.to_numpy().T\n",
    "x_test3 = df1.to_numpy().T\n",
    "x_test4 = df6.to_numpy().T\n",
    "y_test1 = lab3\n",
    "y_test2 = lab5\n",
    "y_test3 = lab1\n",
    "y_test4 = lab6\n",
    "\n",
    "length = len(x_train[0,:])\n",
    "n_sm = len(x_train[:,0])\n",
    "print (\"Shape of training data: \",x_train.shape)\n",
    "print (\"length of data = \", length)\n",
    "print (\"number of samples = \", n_sm)"
   ]
  },
  {
   "cell_type": "code",
   "execution_count": 6,
   "metadata": {},
   "outputs": [],
   "source": [
    "def fisher_index(pvalue_Bonf2,threshold):\n",
    "    # find indices of pvalue < fdr_threshold\n",
    "    length = len(pvalue_Bonf2[0,:])\n",
    "    # add 1 in triangle matrix to remove duplicated index\n",
    "    pvalue_matrix = pvalue_Bonf2 + np.triu(np.ones([length,length]))\n",
    "    j,k = np.where(pvalue_matrix < threshold)\n",
    "    result3 = np.array([j,k],dtype = np.uint16)\n",
    "    result4 = []\n",
    "    for m,n in result3.T:\n",
    "        if a[m,n]==num_control:\n",
    "            result4.append([m,n])\n",
    "    print (\"pvalue_Bonf_threshold = \", threshold)\n",
    "    print (\"number of pairs = \",len(result4))\n",
    "    print (\"number of genes = \", len(np.unique(result4)))\n",
    "    return np.array(result4,dtype = np.uint16).T,len(result4)\n",
    "\n",
    "def extract(data,index,typ):\n",
    "    if typ == 'rank':\n",
    "        extract_data = pairconvert(data,index)\n",
    "    if typ == 'value':\n",
    "        value_index = pair2gene(index)\n",
    "        extract_data = data[:,value_index]\n",
    "    return extract_data\n",
    "\n",
    "def pairconvert(data, index):\n",
    "    sub1 = data[:,index[0,:]] - data[:,index[1,:]] > diff\n",
    "    sub2 = -1*(data[:,index[0,:]] - data[:,index[1,:]] < -diff)\n",
    "    sub = sub1+sub2\n",
    "    return sub"
   ]
  },
  {
   "cell_type": "code",
   "execution_count": null,
   "metadata": {},
   "outputs": [
    {
     "name": "stdout",
     "output_type": "stream",
     "text": [
      "pvalue_Bonf_threshold =  0.001\n",
      "number of pairs =  148\n",
      "number of genes =  104\n"
     ]
    }
   ],
   "source": [
    "# for diff in np.arange(0.1,1,0.1):\n",
    "for diff in [0.1]:\n",
    "    t1 = time.time()\n",
    "    result1 = np.zeros([length,length,n_sm],dtype=np.bool)\n",
    "    result1_ = np.zeros([length,length,n_sm],dtype=np.bool)\n",
    "    for i in range(0,n_sm):\n",
    "        time_l = time.time()\n",
    "        x = np.tile(x_train[i,:], (length,1))\n",
    "        sub = x - x.T\n",
    "\n",
    "        result1[:,:,i] = (sub > diff)\n",
    "        result1_[:,:,i] = (sub < -diff)\n",
    "\n",
    "    # prepare data for fisher exact test, a,c is greater, b,d is smaller\n",
    "    # Control\n",
    "    con_label = 1 - y_train\n",
    "    a = np.sum(result1 * con_label, axis = 2)\n",
    "    b = np.sum(result1_* con_label, axis = 2)\n",
    "\n",
    "    # Case\n",
    "    c = np.sum(result1 * y_train, axis = 2)\n",
    "    d = np.sum(result1_* y_train, axis = 2)\n",
    "\n",
    "    num_disease = np.sum(y_train)\n",
    "    num_control = len(y_train) - num_disease\n",
    "    a_ = a.reshape((-1,1))\n",
    "    a_ = np.squeeze(a_)\n",
    "    a_ = a_.astype(np.uint)\n",
    "    b_ = b.reshape((-1,1))\n",
    "    b_ = np.squeeze(b_)\n",
    "    b_ = b_.astype(np.uint)\n",
    "    c_ = c.reshape((-1,1))\n",
    "    c_ = np.squeeze(c_)\n",
    "    c_ = c_.astype(np.uint)\n",
    "    d_ = d.reshape((-1,1))\n",
    "    d_ = np.squeeze(d_)\n",
    "    d_ = d_.astype(np.uint)\n",
    "\n",
    "    # fisher exact test\n",
    "    _, _, twosided = pvalue_npy(a_, b_, c_, d_)\n",
    "\n",
    "    # fdr\n",
    "    rejected, pvalue_fdr = sm.fdrcorrection(twosided, method='indep', is_sorted=False)\n",
    "    pvalue_fdr2 = pvalue_fdr.reshape((length,length))\n",
    "\n",
    "    rejected, pvalue_Bonf, alphacSidak, alphacBonf = sm.multipletests(twosided, alpha=0.05, method='bonferroni', \n",
    "                                                                      is_sorted=False, returnsorted=False)\n",
    "    pvalue_Bonf2 = pvalue_Bonf.reshape((length,length))\n",
    "\n",
    "    pvalue2 = twosided.reshape((length,length))\n",
    "\n",
    "    ros = RandomOverSampler(random_state=0)\n",
    "\n",
    "    index, num_pair = fisher_index(pvalue_fdr2,0.001)\n",
    "\n",
    "    etc_train = extract(x_train,index,'rank')\n",
    "    x_resampled, y_resampled = ros.fit_resample(x_train, y_train)\n",
    "    etc_train_resampled = extract(x_resampled,index,'rank')\n",
    "# x_1, x_t, y_1, y_t = train_test_split(etc_train_resampled, y_resampled, test_size=0.33, random_state=7)\n",
    "\n",
    "    knn = KNeighborsClassifier(n_neighbors=2)\n",
    "# lgr = LogisticRegression()\n",
    "# mlp = MLPClassifier(hidden_layer_sizes=(20,20),alpha=0.1, max_iter=1000,learning_rate='adaptive', random_state=2)\n",
    "\n",
    "    sfs1 = SFS(estimator=knn, \n",
    "           k_features=(1, 7),\n",
    "           forward=False, \n",
    "           floating=False,\n",
    "           scoring='roc_auc',\n",
    "           cv=5)\n",
    "\n",
    "# pipe = make_pipeline(StandardScaler(), sfs1)\n",
    "\n",
    "    sfs1.fit(etc_train_resampled, y_resampled)\n",
    "\n",
    "    print('best combination (AUC: %.3f): %s\\n' % (sfs1.k_score_, sfs1.k_feature_idx_))\n",
    "    \n",
    "    pairidx = index[:,sfs1.k_feature_idx_]\n",
    "    print(comidx[pairidx[0]])\n",
    "    print(comidx[pairidx[1]])"
   ]
  },
  {
   "cell_type": "code",
   "execution_count": 13,
   "metadata": {},
   "outputs": [
    {
     "data": {
      "text/plain": [
       "(2, 145)"
      ]
     },
     "execution_count": 13,
     "metadata": {},
     "output_type": "execute_result"
    }
   ],
   "source": [
    "np.delete(index,[26, 37, 97],1).shape"
   ]
  },
  {
   "cell_type": "code",
   "execution_count": 14,
   "metadata": {},
   "outputs": [
    {
     "name": "stdout",
     "output_type": "stream",
     "text": [
      "best combination (AUC: 1.000): (4, 17, 89, 119)\n",
      "\n"
     ]
    }
   ],
   "source": [
    "etc_train_resampled = extract(x_resampled,np.delete(index,[26, 37, 97],1),'rank')\n",
    "knn = KNeighborsClassifier(n_neighbors=2)\n",
    "# lgr = LogisticRegression()\n",
    "\n",
    "sfs1 = SFS(estimator=knn, \n",
    "           k_features=(1, 7),\n",
    "           forward=True, \n",
    "           floating=False, \n",
    "           scoring='roc_auc',\n",
    "           cv=5)\n",
    "\n",
    "sfs1.fit(etc_train_resampled, y_resampled)\n",
    "print('best combination (AUC: %.3f): %s\\n' % (sfs1.k_score_, sfs1.k_feature_idx_))"
   ]
  },
  {
   "cell_type": "code",
   "execution_count": 48,
   "metadata": {},
   "outputs": [],
   "source": [
    "substat = np.array([])\n",
    "for i in range(0,n_sm):\n",
    "    time_l = time.time()\n",
    "    x = np.tile(x_train[i,:], (length,1))\n",
    "    sub = x - x.T\n",
    "    substat = np.concatenate((substat,sub.flatten()))"
   ]
  },
  {
   "cell_type": "code",
   "execution_count": 49,
   "metadata": {},
   "outputs": [
    {
     "data": {
      "image/png": "[encoded data removed]",
      "text/plain": [
       "<Figure size 1080x216 with 1 Axes>"
      ]
     },
     "metadata": {
      "needs_background": "light"
     },
     "output_type": "display_data"
    }
   ],
   "source": [
    "plt.figure(figsize=(15,3))\n",
    "plt.hist(substat[(substat>0) & (substat<1)], bins = 100)\n",
    "plt.show()"
   ]
  },
  {
   "cell_type": "code",
   "execution_count": null,
   "metadata": {},
   "outputs": [],
   "source": []
  }
 ],
 "metadata": {
  "kernelspec": {
   "display_name": "Python [conda env:stat3] *",
   "language": "python",
   "name": "conda-env-stat3-py"
  },
  "language_info": {
   "codemirror_mode": {
    "name": "ipython",
    "version": 3
   },
   "file_extension": ".py",
   "mimetype": "text/x-python",
   "name": "python",
   "nbconvert_exporter": "python",
   "pygments_lexer": "ipython3",
   "version": "3.8.2"
  }
 },
 "nbformat": 4,
 "nbformat_minor": 4
}
